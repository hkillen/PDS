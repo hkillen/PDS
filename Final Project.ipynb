{
 "cells": [
  {
   "cell_type": "markdown",
   "metadata": {},
   "source": [
    "## Introduction"
   ]
  },
  {
   "cell_type": "markdown",
   "metadata": {},
   "source": [
    "In an increasingly globalized society, English is becoming more and more prevalent. This is especially true in technology driven industries, where new inventions and processes create new words that may not translate between languages. After traveling to France and interviewing people on the streets of Nantes about the use of English in the workplace, it is clear that France is no exception. People talked about how English facilitates communication because some ideas are simpler and faster to express in English. Examples of words they used included \"data,\" \"cashflow,\" and \"roadmap.\" One woman working for a tech startup talked about how English can make a person seem younger since there is a generational gap in the use of English. She also talked about how everyone in tech-related industries would understand what she meant by \"data,\" but that people outside the tech domain may not. In this notebook we explore the question: is it possible to classify French webistes as tech or non-tech based on the use of English?\n",
    "\n",
    "## Contents\n",
    "\n",
    " - [Scraping the Websites](#Scraping-the-Websites)\n",
    " - [Making Features and Labels](#Making-Features-and-Labels)\n",
    " - [Visualization and Exploratory Data Analysis](#Visualization-and-Exploratory-Data-Analysis)\n",
    " - [Fitting Models](#Fitting-Models)\n",
    "     - [Logistic Regression](#Logistic-Regression)\n",
    "     - [SVM](#SVM)\n",
    "     - [Naive Bayes](#Naive-Bayes)\n",
    " - [Conclusions](#Parametric-Modeling)"
   ]
  },
  {
   "cell_type": "markdown",
   "metadata": {},
   "source": [
    "## Scraping the Websites\n",
    "\n",
    "To answer our question, we will scrape text from the home pages of various tech and non-tech French websites."
   ]
  },
  {
   "cell_type": "code",
   "execution_count": 1,
   "metadata": {
    "collapsed": true
   },
   "outputs": [],
   "source": [
    "import requests\n",
    "from bs4 import BeautifulSoup, Comment\n",
    "import nltk\n",
    "import string\n",
    "en_lemmatizer=nltk.stem.wordnet.WordNetLemmatizer()\n",
    "from nltk.stem.snowball import FrenchStemmer\n",
    "stemmer = FrenchStemmer()\n",
    "from collections import Counter\n",
    "import numpy as np\n",
    "import re\n",
    "import pandas as pd\n",
    "from sklearn.linear_model import LogisticRegression\n",
    "from sklearn.model_selection import train_test_split\n",
    "from sklearn.naive_bayes import GaussianNB\n",
    "import sklearn"
   ]
  },
  {
   "cell_type": "code",
   "execution_count": 2,
   "metadata": {
    "collapsed": true
   },
   "outputs": [],
   "source": [
    "# we learned how to get the visible text on a website from here:\n",
    "# https://stackoverflow.com/questions/1936466/beautifulsoup-grab-visible-webpage-text?utm_medium=organic&utm_source=google_rich_qa&utm_campaign=google_rich_qa\n",
    "\n",
    "# returns true if an element contains visible text on a web page and false otherwise\n",
    "def tag_visible(element):\n",
    "    if element.parent.name in ['style', 'script', 'head', 'meta', '[document]', 'header', 'a']:\n",
    "        return False\n",
    "    if isinstance(element, Comment):\n",
    "        return False\n",
    "    return True\n",
    "\n",
    "# gets all the visible text on a web page\n",
    "def collect_text(url):\n",
    "    response_text = requests.get(url).text\n",
    "    soup = BeautifulSoup(response_text,\"html.parser\")\n",
    "    texts = soup.findAll(text=True)\n",
    "    visible_texts = list(filter(tag_visible, texts))\n",
    "    return visible_texts"
   ]
  },
  {
   "cell_type": "code",
   "execution_count": 3,
   "metadata": {
    "collapsed": true
   },
   "outputs": [],
   "source": [
    "# strips the text on a web page to just contain words\n",
    "def clean_data(L):\n",
    "    result = \"\"\n",
    "    for word in L:\n",
    "        if (word in string.whitespace) or (word in string.punctuation): continue\n",
    "        word = word.lower().strip().replace(\"\\'s\", \"\").replace(\"\\x92\", \"\")\n",
    "        word_no_punct = \"\"\n",
    "        for c in word:\n",
    "            if (c not in string.punctuation) and (c not in string.digits) and (c not in [\"•\",\"—\", \"®\", \"«\", \"»\", \"”\", \"©\", \"¨\", \"ª\"]): word_no_punct += c\n",
    "        result += word_no_punct + \" \"\n",
    "    \n",
    "    # tokenize\n",
    "    tokenized = nltk.word_tokenize(result)\n",
    "    tokenized = list(filter(lambda x: '’' not in x, tokenized))\n",
    "    \n",
    "    # English Lemmatize \n",
    "    en_lemmatized = list(map(lambda word: en_lemmatizer.lemmatize(word), tokenized))\n",
    "    \n",
    "    return en_lemmatized"
   ]
  },
  {
   "cell_type": "markdown",
   "metadata": {
    "collapsed": true
   },
   "source": [
    "## Making Features and Labels"
   ]
  },
  {
   "cell_type": "markdown",
   "metadata": {},
   "source": [
    "We use the 1000 most common Enlgish words to find instances of English on the websites. After looking at various websites, we found that the 1000 most common words tend to encompass the types of English words used on these sites. What's more, the 1000 most common English words will include English stop words, the use of which is a good indicator of the website having English phrases or sentences as opposed to standalone English words."
   ]
  },
  {
   "cell_type": "code",
   "execution_count": 4,
   "metadata": {
    "collapsed": true
   },
   "outputs": [],
   "source": [
    "#get the 1000 most common words in english\n",
    "def get_words(file):\n",
    "    with open(file) as f:\n",
    "        words = [line.rstrip() for line in f]\n",
    "    return words\n",
    "\n",
    "english_words = get_words(\"1000-words.txt\")"
   ]
  },
  {
   "cell_type": "code",
   "execution_count": 5,
   "metadata": {
    "collapsed": true
   },
   "outputs": [],
   "source": [
    "def make_df_and_labels(techs, non_techs):\n",
    "    text_and_label = []\n",
    "    for tech in techs:\n",
    "        text = collect_text(tech)\n",
    "        clean_text = clean_data(text)\n",
    "        text_and_label += [[clean_text, 1]]\n",
    "    for non_tech in non_techs:\n",
    "        text = collect_text(non_tech)\n",
    "        clean_text = clean_data(text)\n",
    "        text_and_label += [[clean_text, 0]]\n",
    "    return pd.DataFrame(text_and_label, columns = ['text', 'label'])"
   ]
  },
  {
   "cell_type": "code",
   "execution_count": 6,
   "metadata": {
    "collapsed": true
   },
   "outputs": [],
   "source": [
    "def count_english_words(text):\n",
    "    #counts total english words\n",
    "    count = 0\n",
    "    #counts unique instances of english\n",
    "    count_single = 0\n",
    "    text_word_counts = Counter(text)\n",
    "    for word in english_words:\n",
    "        if word in text_word_counts: \n",
    "            count += text_word_counts[word]\n",
    "            count_single += 1\n",
    "    return count, count_single"
   ]
  },
  {
   "cell_type": "markdown",
   "metadata": {},
   "source": [
    "The features we choose to add are: the total number of English words that appear on a page, which we call \"eng_count,\" the number of unique English words on a page, which we call \"eng_count_ones,\" and the percent of words on the page that are English, which we call \"percent_total.\""
   ]
  },
  {
   "cell_type": "code",
   "execution_count": 7,
   "metadata": {
    "collapsed": true
   },
   "outputs": [],
   "source": [
    "def add_english_stats(df):\n",
    "    english_counts = []\n",
    "    english_count_ones = []\n",
    "    percent_total = []\n",
    "    for text in df.text:\n",
    "        eng_count, eng_count_ones = count_english_words(text)\n",
    "        english_counts += [eng_count]\n",
    "        english_count_ones += [eng_count_ones]\n",
    "        percent_total += [eng_count/len(text)]\n",
    "    df[\"eng_count\"] = english_counts\n",
    "    df[\"eng_count_ones\"] = english_count_ones\n",
    "    df[\"percent_total\"] = percent_total\n",
    "    return df"
   ]
  },
  {
   "cell_type": "code",
   "execution_count": 8,
   "metadata": {},
   "outputs": [
    {
     "data": {
      "text/html": [
       "<div>\n",
       "<style>\n",
       "    .dataframe thead tr:only-child th {\n",
       "        text-align: right;\n",
       "    }\n",
       "\n",
       "    .dataframe thead th {\n",
       "        text-align: left;\n",
       "    }\n",
       "\n",
       "    .dataframe tbody tr th {\n",
       "        vertical-align: top;\n",
       "    }\n",
       "</style>\n",
       "<table border=\"1\" class=\"dataframe\">\n",
       "  <thead>\n",
       "    <tr style=\"text-align: right;\">\n",
       "      <th></th>\n",
       "      <th>text</th>\n",
       "      <th>label</th>\n",
       "      <th>eng_count</th>\n",
       "      <th>eng_count_ones</th>\n",
       "      <th>percent_total</th>\n",
       "    </tr>\n",
       "  </thead>\n",
       "  <tbody>\n",
       "    <tr>\n",
       "      <th>0</th>\n",
       "      <td>[éditeurs, de, logiciels, de, conception, d, d...</td>\n",
       "      <td>1</td>\n",
       "      <td>84</td>\n",
       "      <td>37</td>\n",
       "      <td>0.067416</td>\n",
       "    </tr>\n",
       "    <tr>\n",
       "      <th>1</th>\n",
       "      <td>[qonto, compte, pro, en, ligne, pour, entrepri...</td>\n",
       "      <td>1</td>\n",
       "      <td>56</td>\n",
       "      <td>24</td>\n",
       "      <td>0.051852</td>\n",
       "    </tr>\n",
       "    <tr>\n",
       "      <th>2</th>\n",
       "      <td>[trooper, agence, web, de, création, de, site,...</td>\n",
       "      <td>1</td>\n",
       "      <td>116</td>\n",
       "      <td>63</td>\n",
       "      <td>0.112950</td>\n",
       "    </tr>\n",
       "    <tr>\n",
       "      <th>3</th>\n",
       "      <td>[arkane, studio, français, prey, est, disponib...</td>\n",
       "      <td>1</td>\n",
       "      <td>24</td>\n",
       "      <td>16</td>\n",
       "      <td>0.041096</td>\n",
       "    </tr>\n",
       "    <tr>\n",
       "      <th>4</th>\n",
       "      <td>[frame, iframe, définition, menu, menu, mon, c...</td>\n",
       "      <td>1</td>\n",
       "      <td>14</td>\n",
       "      <td>12</td>\n",
       "      <td>0.068966</td>\n",
       "    </tr>\n",
       "  </tbody>\n",
       "</table>\n",
       "</div>"
      ],
      "text/plain": [
       "                                                text  label  eng_count  \\\n",
       "0  [éditeurs, de, logiciels, de, conception, d, d...      1         84   \n",
       "1  [qonto, compte, pro, en, ligne, pour, entrepri...      1         56   \n",
       "2  [trooper, agence, web, de, création, de, site,...      1        116   \n",
       "3  [arkane, studio, français, prey, est, disponib...      1         24   \n",
       "4  [frame, iframe, définition, menu, menu, mon, c...      1         14   \n",
       "\n",
       "   eng_count_ones  percent_total  \n",
       "0              37       0.067416  \n",
       "1              24       0.051852  \n",
       "2              63       0.112950  \n",
       "3              16       0.041096  \n",
       "4              12       0.068966  "
      ]
     },
     "execution_count": 8,
     "metadata": {},
     "output_type": "execute_result"
    }
   ],
   "source": [
    "non_tech = [\"https://www.feedsmartfood.com/fr/\", \n",
    "            \"https://www.neatyy.com/fr\", \n",
    "            \"https://velco.bike/fr/\", \n",
    "            \"https://ecotree.fr\", \n",
    "            \"https://www.lecomparateurassurance.com\", \n",
    "            \"http://www.lacigale.com\", \n",
    "            \"https://www.total.com/fr\", \n",
    "            \"http://www.pathe.fr/\", \n",
    "            \"https://www.groupe-psa.com/fr/\", \n",
    "            \"https://www.suez.com/fr\", \n",
    "            \"https://www.groupe-tf1.fr/fr\", \n",
    "            \"https://www.societegenerale.com/fr/accueil\", \n",
    "            \"https://www.bicworld.com/fr\", \n",
    "            \"https://www.sncf.com/fr\", \n",
    "            \"https://www.schneider-electric.fr/fr/\", \n",
    "            \"https://www.sanofi.com/fr/\", \n",
    "            \"https://www.salomon.com/fr/\", \n",
    "            \"http://www.waterman.com/fr/\", \n",
    "            \"https://www.veolia.fr/\", \n",
    "            \"https://www.vinci.com/vinci.nsf/fr/index.htm\"]\n",
    "tech = [\"https://www.3ds.com/fr\", \n",
    "        \"https://qonto.eu\", \n",
    "        \"https://troopers.agency/fr/\", \n",
    "        \"https://www.arkane-studios.com/fr/index.php\", \n",
    "        \"https://www.atinternet.com/glossaire/frameiframe/\", \n",
    "        \"https://www.criteo.com/fr/\", \n",
    "        \"https://www.ouipharma.fr\", \n",
    "        \"https://www.edgemind.net/fr/examples.html\", \n",
    "        \"http://www.gameloft.com/fr/\", \n",
    "        \"https://www.gandi.net/fr\", \n",
    "        \"https://www.leetchi.com\", \n",
    "        \"http://madvertise.com/fr/appsfire/\", \n",
    "        \"https://health.nokia.com/ca/fr/\", \n",
    "        \"https://www.chauffeur-prive.com\", \n",
    "        \"http://www.gameloft.com/fr/\", \n",
    "        \"https://atos.net/fr/\", \n",
    "        \"http://mobile.free.fr\", \n",
    "        \"https://fr.360learning.com\", \n",
    "        \"https://www.arkane-studios.com/fr/index.php\", \n",
    "        \"https://www.soprasteria.com/fr/home\"] \n",
    "\n",
    "df = make_df_and_labels(tech, non_tech)\n",
    "df = add_english_stats(df)\n",
    "df.head()"
   ]
  },
  {
   "cell_type": "markdown",
   "metadata": {},
   "source": [
    "## Visualization and Exploratory Data Analysis"
   ]
  },
  {
   "cell_type": "markdown",
   "metadata": {},
   "source": [
    "We begin by looking at the means and standard deviation for the features of our data for tech and non-tech sites."
   ]
  },
  {
   "cell_type": "code",
   "execution_count": 9,
   "metadata": {},
   "outputs": [
    {
     "name": "stdout",
     "output_type": "stream",
     "text": [
      "Tech\n",
      "mean: 68.300000, standard deviation: 68.673212\n",
      "Non-tech\n",
      "mean: 43.950000, standard deviation: 40.694564\n",
      "\n",
      "Tech\n",
      "mean: 32.700000, standard deviation: 30.853039\n",
      "Non-tech\n",
      "mean: 21.050000, standard deviation: 18.462056\n",
      "\n",
      "Tech\n",
      "mean: 0.092122, standard deviation: 0.080236\n",
      "Non-tech\n",
      "mean: 0.090230, standard deviation: 0.077841\n",
      "\n"
     ]
    }
   ],
   "source": [
    "def mean_and_std(values, length):\n",
    "    print(\"Tech\")\n",
    "    print(\"mean: %f, standard deviation: %f\" %(np.mean(values[0:length//2]), np.std(values[0:length//2])))\n",
    "    print(\"Non-tech\")\n",
    "    print(\"mean: %f, standard deviation: %f\" %(np.mean(values[length//2:]), np.std(values[length//2:])))\n",
    "    print(\"\")\n",
    "    \n",
    "mean_and_std(df[\"eng_count\"], 40)\n",
    "mean_and_std(df[\"eng_count_ones\"], 40)\n",
    "mean_and_std(df[\"percent_total\"], 40)"
   ]
  },
  {
   "cell_type": "markdown",
   "metadata": {},
   "source": [
    "There is a noticable difference in the means between tech and non-tech; however, we also see that they have fairly large standard deviations. This is a potential indication that these features may not be the best to use to try and classify the websites. For this reason we will create both feature based and word based classifiers. Let's now look at the most common English words on the sites."
   ]
  },
  {
   "cell_type": "code",
   "execution_count": 10,
   "metadata": {},
   "outputs": [
    {
     "data": {
      "image/png": "[encoded data removed]",
      "text/plain": [
       "<matplotlib.figure.Figure at 0x1a12e10860>"
      ]
     },
     "metadata": {},
     "output_type": "display_data"
    },
    {
     "data": {
      "image/png": "[encoded data removed]",
      "text/plain": [
       "<matplotlib.figure.Figure at 0x1a12e10710>"
      ]
     },
     "metadata": {},
     "output_type": "display_data"
    }
   ],
   "source": [
    "import matplotlib.pyplot as plt\n",
    "plt.style.use(\"ggplot\")\n",
    "\n",
    "def make_bar_graph(text, N, title):\n",
    "    counts = Counter(text)\n",
    "    most_common = counts.most_common(N)\n",
    "    heights = [most_common[i][1] for i in range(len(most_common))]\n",
    "    x_axis = [i for i in range(N)]\n",
    "    tick_label = [most_common[i][0] for i in range(len(most_common))]\n",
    "    f, ax = plt.subplots()\n",
    "    ax.barh(x_axis, heights, tick_label=tick_label)\n",
    "    ax.set_title(title)\n",
    "    plt.show()\n",
    "    \n",
    "def get_tech_text(english_words, length):\n",
    "    tech_text = []\n",
    "    for i in range(length//2):\n",
    "        text = df[\"text\"][i]\n",
    "        for j in range(len(text)):\n",
    "            word = text[j]\n",
    "            if word in english_words:\n",
    "                tech_text.append(word)\n",
    "    return tech_text\n",
    "            \n",
    "def get_non_tech_text(english_words, length):        \n",
    "    non_tech_text = []\n",
    "    for i in range(length//2, length):\n",
    "        text = df[\"text\"][i]\n",
    "        for j in range(len(text)):\n",
    "            word = text[j]\n",
    "            if word in english_words:\n",
    "                non_tech_text.append(word)\n",
    "    return non_tech_text\n",
    "\n",
    "tech_text = get_tech_text(english_words, 40)\n",
    "non_tech_text = get_non_tech_text(english_words, 40)\n",
    "make_bar_graph(tech_text, 20, \"20 Most Common English Words on Tech Sites\")\n",
    "make_bar_graph(non_tech_text, 20, \"20 Most Common English Words on Non-tech Sites\")\n",
    "    "
   ]
  },
  {
   "cell_type": "markdown",
   "metadata": {},
   "source": [
    "Since we see that many of the common words are also words in French, we will remove words such as \"service\" and \"information.\" Now we replot the most common words so that we have words that are English and not French."
   ]
  },
  {
   "cell_type": "code",
   "execution_count": 11,
   "metadata": {},
   "outputs": [
    {
     "data": {
      "image/png": "[encoded data removed]",
      "text/plain": [
       "<matplotlib.figure.Figure at 0x1a0db5cf28>"
      ]
     },
     "metadata": {},
     "output_type": "display_data"
    },
    {
     "data": {
      "image/png": "[encoded data removed]",
      "text/plain": [
       "<matplotlib.figure.Figure at 0x1a0db5cf60>"
      ]
     },
     "metadata": {},
     "output_type": "display_data"
    }
   ],
   "source": [
    "def remove_bad_words(words, bad_words):\n",
    "    english_words = []\n",
    "    for word in words:\n",
    "        if word not in bad_words:\n",
    "            english_words += [word]\n",
    "    return english_words\n",
    "\n",
    "bad_words = [\"animal\", \"adult\", \"age\", \"action\", \"administration\", \"agent\", \"audience\", \"attention\", \n",
    "             \"billion\", \"capital\", \"central\", \"certain\", \"chance\", \"change\", \"collection\", \"continue\", \"culture\", \n",
    "             \"difference\", \"different\", \"direction\", \"education\", \"experience\", \"expert\", \"film\", \"force\", \"information\", \"institution\", \n",
    "             \"international\", \"machine\", \"million\", \"minute\", \"model\", \"moment\", \"notice\", \"operation\", \"option\", \"page\", \n",
    "             \"patient\", \"period\", \"place\", \"plan\", \"population\", \"possible\", \"question\", \"race\", \"region\", \"science\", \"section\", \"source\", \n",
    "             \"service\", \"son\", \"simple\", \"station\", \"total\", \"traditional\", \"type\"]\n",
    "\n",
    "english_words_no_bad = remove_bad_words(english_words, bad_words)\n",
    "    \n",
    "tech_text = get_tech_text(english_words_no_bad, 40)\n",
    "non_tech_text = get_non_tech_text(english_words_no_bad, 40)\n",
    "make_bar_graph(tech_text, 20, \"20 Most Common English Words on Tech Sites\")\n",
    "make_bar_graph(non_tech_text, 20, \"20 Most Common English Words on Non-tech Sites\")"
   ]
  },
  {
   "cell_type": "markdown",
   "metadata": {},
   "source": [
    "From here, we see that the most commonly used English words on French webistes in general are \"no\" and \"a\" and that tech sites use more stop words than non-tech sites, which we noted before could be an indication of using more English sentences and phrases. We can also see that the frequency of commonly used English words is lower for non-tech than tech sites. It is worth noting that the words we removed from our common English words list could have been used in either an English or a French context since they exist in both English and French. Those words could be valuable to include in our commonly used English words list if we could determine the context in which those words are used; however, this is a hard problem for another project."
   ]
  },
  {
   "cell_type": "markdown",
   "metadata": {},
   "source": [
    "## Fitting Models\n",
    "\n",
    "We begin by fitting a feature based model."
   ]
  },
  {
   "cell_type": "markdown",
   "metadata": {},
   "source": [
    "### Logistic Regression"
   ]
  },
  {
   "cell_type": "code",
   "execution_count": 25,
   "metadata": {},
   "outputs": [
    {
     "name": "stdout",
     "output_type": "stream",
     "text": [
      "[[ 0.51707722  0.48292278]\n",
      " [ 0.54726613  0.45273387]\n",
      " [ 0.31724502  0.68275498]\n",
      " [ 0.54903334  0.45096666]\n",
      " [ 0.38200163  0.61799837]\n",
      " [ 0.56838155  0.43161845]\n",
      " [ 0.56136677  0.43863323]\n",
      " [ 0.37361578  0.62638422]\n",
      " [ 0.48141733  0.51858267]\n",
      " [ 0.44770934  0.55229066]\n",
      " [ 0.29750299  0.70249701]\n",
      " [ 0.50103007  0.49896993]]\n",
      "9     1\n",
      "20    0\n",
      "8     1\n",
      "26    0\n",
      "15    1\n",
      "22    0\n",
      "13    1\n",
      "2     1\n",
      "16    1\n",
      "30    0\n",
      "29    0\n",
      "24    0\n",
      "Name: label, dtype: int64\n"
     ]
    },
    {
     "data": {
      "text/plain": [
       "0.66666666666666663"
      ]
     },
     "execution_count": 25,
     "metadata": {},
     "output_type": "execute_result"
    }
   ],
   "source": [
    "def train_test_pred_logreg(X, y, percent, verbose=False):\n",
    "    #split the data into training and testing data\n",
    "    X_train, X_test, y_train, y_test = train_test_split(X, y, test_size = percent)\n",
    "    lr = LogisticRegression()\n",
    "    #fit the model on the training data\n",
    "    lr.fit(X_train, y_train)\n",
    "    #predict on the test set\n",
    "    pred = lr.predict(X_test)\n",
    "    if verbose:\n",
    "        print(lr.predict_proba(X_test))\n",
    "        print(y_test)\n",
    "    #compute the accuracy\n",
    "    return(np.array(y_test) == pred).mean()\n",
    "\n",
    "train_test_pred_logreg(df[[\"eng_count\"]], df[\"label\"], .3, True)"
   ]
  },
  {
   "cell_type": "markdown",
   "metadata": {},
   "source": [
    "We see that for a logistic regression with \"eng_counts\" it classifies fairly well; however, note that the predicted probabilities are all fairly close, which is another indication that perhaps these features are not the best way to classify. Let's first fit a few more logistic regression models and get their mean prediction accuracy, before moving on to word based classifiers."
   ]
  },
  {
   "cell_type": "code",
   "execution_count": 48,
   "metadata": {},
   "outputs": [
    {
     "name": "stdout",
     "output_type": "stream",
     "text": [
      "0.51875\n",
      "0.527083333333\n",
      "0.391666666667\n",
      "0.483333333333\n"
     ]
    }
   ],
   "source": [
    "def mean_accuracy(X, y, percent, tests):\n",
    "    accuracies = []\n",
    "    for i in range(tests):\n",
    "        accuracies += [train_test_pred_logreg(X, y, percent)]\n",
    "    return np.array(accuracies).mean()\n",
    "\n",
    "#model: logit(tech) = b_0 + b_1(eng_count)\n",
    "print(mean_accuracy(df[[\"eng_count\"]], df[\"label\"], .3, 40))\n",
    "\n",
    "#model: logit(tech) = b_0 + b_1(eng_count_ones)\n",
    "print(mean_accuracy(df[[\"eng_count_ones\"]], df[\"label\"], .3, 40))\n",
    "\n",
    "#model: logit(tech) = b_0 + b_1(percent_total)\n",
    "print(mean_accuracy(df[[\"percent_total\"]], df[\"label\"], .3, 40))\n",
    "\n",
    "#model: logit(tech) = b_0 + b_1(eng_count) + b2(eng_count_ones) + b_3(percent_total)\n",
    "print(mean_accuracy(df[[\"eng_count\", \"eng_count_ones\"]], df[\"label\"], .3, 40))"
   ]
  },
  {
   "cell_type": "markdown",
   "metadata": {},
   "source": [
    "On average the logistic regression with \"eng_counts\" and \"eng_count_ones\" have the highest accuracies, but still do not have very high accuracies. Thus we move on to word based classifiers. "
   ]
  },
  {
   "cell_type": "markdown",
   "metadata": {},
   "source": [
    "### SVM\n",
    "\n",
    "We chose to implement an SVM because, in case our data is not linearly separable, we can evaluate different SVM models based on different kernels to see which one does the best."
   ]
  },
  {
   "cell_type": "markdown",
   "metadata": {},
   "source": [
    "First we will randomly split our data into training and test data."
   ]
  },
  {
   "cell_type": "code",
   "execution_count": 14,
   "metadata": {
    "collapsed": true
   },
   "outputs": [],
   "source": [
    "# We will train on 70% of our data, and test on the other 30% in general\n",
    "def split_data(train_percentage, df):\n",
    "    train_indices = np.random.choice(len(df), int(train_percentage*(len(df))))\n",
    "    train_X = df.iloc[train_indices]\n",
    "    test_indices = list(set(np.arange(len(df))) - set(train_indices))\n",
    "    test_X = df.iloc[test_indices]\n",
    "    return (train_X, test_X)\n",
    "train_data, test_data = split_data(.7, df)"
   ]
  },
  {
   "cell_type": "code",
   "execution_count": 15,
   "metadata": {
    "collapsed": true
   },
   "outputs": [],
   "source": [
    "# Then we create feature matrices of English words for each web page in our training data\n",
    "def create_features(df, english_only=True):\n",
    "    text = df[\"text\"]\n",
    "    if english_only:\n",
    "        def filter_text(L): return list(filter(lambda s: s in english_words_no_bad, L))\n",
    "        text = text.apply(filter_text)\n",
    "    strings = text.apply((\" \").join)\n",
    "    tfidf = sklearn.feature_extraction.text.TfidfVectorizer(input=\"content\", analyzer=\"word\")\n",
    "    X = tfidf.fit_transform(strings)\n",
    "    \n",
    "    return (tfidf, X)\n",
    "tfidf, train_X = create_features(train_data, True)"
   ]
  },
  {
   "cell_type": "markdown",
   "metadata": {},
   "source": [
    "From here, we test whether linear, polynomial, rbf, or sigmoid is the best kernel for our data."
   ]
  },
  {
   "cell_type": "code",
   "execution_count": 16,
   "metadata": {},
   "outputs": [
    {
     "name": "stdout",
     "output_type": "stream",
     "text": [
      "linear : 1.0\n",
      "rbf : 0.535714285714\n",
      "poly : 0.535714285714\n",
      "sigmoid : 0.535714285714\n"
     ]
    }
   ],
   "source": [
    "#  Train our classifier to fit our data with different types of kernels\n",
    "def train_classifier(X_train, y_train, kernel):\n",
    "    classifier = sklearn.svm.classes.SVC(kernel=kernel)\n",
    "    classifier.fit(X_train, y_train)\n",
    "    return classifier\n",
    "\n",
    "# And we can decide what the best kernel is\n",
    "for kernel in ['linear', 'rbf', 'poly', 'sigmoid']:\n",
    "    classifier = train_classifier(train_X, train_data[\"label\"], kernel)\n",
    "    accuracy = classifier.score(train_X, train_data[\"label\"])\n",
    "    print(kernel,':',accuracy)"
   ]
  },
  {
   "cell_type": "markdown",
   "metadata": {},
   "source": [
    "It looks like we will want to use a linear kernel in our model."
   ]
  },
  {
   "cell_type": "code",
   "execution_count": 17,
   "metadata": {
    "collapsed": true
   },
   "outputs": [],
   "source": [
    "# Then we can classify our test data to see how we did\n",
    "def classify(tfidf, classifier, test_data, english_only=True):\n",
    "    text = test_data[\"text\"]\n",
    "    if english_only:\n",
    "        def filter_text(L): return list(filter(lambda s: s in english_words_no_bad, L))\n",
    "        text = text.apply(filter_text)\n",
    "    strings = text.apply((\" \").join)\n",
    "    X = tfidf.transform(strings)\n",
    "    return classifier.predict(X.toarray())"
   ]
  },
  {
   "cell_type": "markdown",
   "metadata": {},
   "source": [
    "First, we can try running our SVM on just the English words in each text."
   ]
  },
  {
   "cell_type": "code",
   "execution_count": 18,
   "metadata": {},
   "outputs": [
    {
     "name": "stdout",
     "output_type": "stream",
     "text": [
      "0.436554603882\n"
     ]
    }
   ],
   "source": [
    "# Only English Words\n",
    "accuracy = []\n",
    "for i in range(20):\n",
    "    train_data, test_data = split_data(.7, df)\n",
    "    (tfidf, train_X) = create_features(train_data, english_only=True)\n",
    "    # First we train our model\n",
    "    clf = train_classifier(train_X, train_data[\"label\"], \"linear\")\n",
    "    # compare these predictions to the real labels\n",
    "    pred = classify(tfidf, clf, test_data, english_only=True)\n",
    "    accuracy.append((np.array(test_data[\"label\"]) == pred).mean())\n",
    "print(np.array(accuracy).mean())"
   ]
  },
  {
   "cell_type": "markdown",
   "metadata": {},
   "source": [
    "As we can see, this model does not do too well. Let's try classifying based on all of the words on a page, not just the English words, to see if the French words on a page also have impact on whether a company can be classified as tech or non-tech."
   ]
  },
  {
   "cell_type": "code",
   "execution_count": 19,
   "metadata": {},
   "outputs": [
    {
     "name": "stdout",
     "output_type": "stream",
     "text": [
      "0.503212378652\n"
     ]
    }
   ],
   "source": [
    "# English and French Words\n",
    "accuracy = []\n",
    "for i in range(20):\n",
    "    train_data, test_data = split_data(.7, df)\n",
    "    (tfidf, train_X) = create_features(train_data, english_only=False)\n",
    "    # First we train our model\n",
    "    clf = train_classifier(train_X, train_data[\"label\"], \"linear\")\n",
    "    # compare these predictions to the real labels\n",
    "    pred = classify(tfidf, clf, test_data, english_only=False)\n",
    "    accuracy.append((np.array(test_data[\"label\"]) == pred).mean())\n",
    "print(np.array(accuracy).mean())"
   ]
  },
  {
   "cell_type": "markdown",
   "metadata": {},
   "source": [
    "Even with the French words included in our model, an SVM with a linear kernel still barely does  better than guessing randomly. Let's move on to our next classifier to see if we can do better."
   ]
  },
  {
   "cell_type": "markdown",
   "metadata": {},
   "source": [
    "### Naive Bayes\n",
    "\n",
    "Naive Bayes is a classic way to classify text. It is known to do very well on even small training data sets, which is why we thought it might be a good way to solve our problem."
   ]
  },
  {
   "cell_type": "markdown",
   "metadata": {},
   "source": [
    "We can use the same feature matrix we used for our SVM model, which uses the words found on the webpages. First, let's see how a Naive Bayes classifier does with just English words."
   ]
  },
  {
   "cell_type": "code",
   "execution_count": 20,
   "metadata": {},
   "outputs": [
    {
     "name": "stdout",
     "output_type": "stream",
     "text": [
      "0.516459899749\n"
     ]
    }
   ],
   "source": [
    "# Only English Words\n",
    "accuracy = []\n",
    "for i in range(20):\n",
    "    train_data, test_data = split_data(.7, df)\n",
    "    (tfidf, train_X) = create_features(train_data, english_only=True)\n",
    "    # First we train our model\n",
    "    gnb = GaussianNB()\n",
    "    gnb.fit(train_X.toarray(),train_data[\"label\"])\n",
    "    # compare these predictions to the real labels\n",
    "    pred = classify(tfidf, gnb, test_data, english_only=True)\n",
    "    accuracy.append((np.array(test_data[\"label\"]) == pred).mean())\n",
    "print(np.array(accuracy).mean())"
   ]
  },
  {
   "cell_type": "markdown",
   "metadata": {},
   "source": [
    "Our Naive Bayes classifier with just English words still doesn't perform well. As we begin to lose hope that our problem is not solveable with a machine learning algorithm, we can try one last thing: a Naive Bayes classifier with English and French words."
   ]
  },
  {
   "cell_type": "code",
   "execution_count": 49,
   "metadata": {},
   "outputs": [
    {
     "name": "stdout",
     "output_type": "stream",
     "text": [
      "0.630657202275\n"
     ]
    }
   ],
   "source": [
    "# English and French words\n",
    "accuracy = []\n",
    "for i in range(20):\n",
    "    train_data, test_data = split_data(.7, df)\n",
    "    (tfidf, train_X) = create_features(train_data, english_only=False)\n",
    "    # First we train our model\n",
    "    gnb = GaussianNB()\n",
    "    gnb.fit(train_X.toarray(),train_data[\"label\"])\n",
    "    # compare these predictions to the real labels\n",
    "    pred = classify(tfidf, gnb, test_data, english_only=False)\n",
    "    accuracy.append((np.array(test_data[\"label\"]) == pred).mean())\n",
    "print(np.array(accuracy).mean())"
   ]
  },
  {
   "cell_type": "markdown",
   "metadata": {},
   "source": [
    "Aha! This classifier actually performs pretty well! Now let's explore why this classifier did the best. "
   ]
  },
  {
   "cell_type": "markdown",
   "metadata": {},
   "source": [
    "## Conclusion"
   ]
  },
  {
   "cell_type": "markdown",
   "metadata": {},
   "source": [
    "Of the three classifiers we used, the Naive Bayes classifier used on the French and English words found on a webpage performed the best. It was the only classifier that was able to consistently do better than 50%. \n",
    "\n",
    "The logistic regression model most likely did worse than our Naive Bayes model because it was based on the counts of English words found on a website, which contains less information than all the words. The Naive Bayes model, on the other hand, works with the words on a website. Based on this, we would conclude that the actual words found on a webpage have significant impact on whether a company is tech or non-tech.\n",
    "\n",
    "The SVM did not perform very well either, which could be due to the fact that, while a linear kernel was the best option for separating the data of the kernels we tried, our data may not have been linearly separable to begin with.\n",
    "\n",
    "Since our Naive Bayes classifier with both French and English words worked the best, we can see that the types of English and French words found on a webpage can be used as indicators of whether a website is tech or non-tech. The actual presence of English words on a webpage, however, may not be a strong indication of whether a company is tech or non-tech as we initially postulated."
   ]
  }
 ],
 "metadata": {
  "kernelspec": {
   "display_name": "Python 3",
   "language": "python",
   "name": "python3"
  },
  "language_info": {
   "codemirror_mode": {
    "name": "ipython",
    "version": 3
   },
   "file_extension": ".py",
   "mimetype": "text/x-python",
   "name": "python",
   "nbconvert_exporter": "python",
   "pygments_lexer": "ipython3",
   "version": "3.6.3"
  }
 },
 "nbformat": 4,
 "nbformat_minor": 2
}
